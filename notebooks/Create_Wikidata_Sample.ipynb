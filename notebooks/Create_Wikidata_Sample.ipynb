{
 "cells": [
  {
   "cell_type": "markdown",
   "id": "9fbcf6b4",
   "metadata": {},
   "source": [
    "# Create Sample Wikidata\n",
    "\n",
    "* Translate Stream Updater JSON to SPARQL UPDATE (INSERT/DELETE DATA) statements\n",
    "** To be used in stress testing\n",
    "** Saved as sparql-update.ru\n",
    "* Capture the earliest (first) triple for each deleted subject/predicate pair in a new file, deleted-triples.nt\n",
    "* Create subset of Wikidata using subgraphs-5.csv, a test set used in query analyses\n",
    "** The CSV data is used to create an initial, \"small\" set of triples for Wikidata compliance testing\n",
    "** Saved as query-triples.nt\n",
    "* Manually add the deleted-triples.nt triples to the file, query-triples.nt, to create wikidata-subset.nt"
   ]
  },
  {
   "cell_type": "code",
   "execution_count": 1,
   "id": "157f2cac",
   "metadata": {
    "ExecuteTime": {
     "end_time": "2022-06-13T19:05:40.227400Z",
     "start_time": "2022-06-13T19:05:40.216099Z"
    }
   },
   "outputs": [],
   "source": [
    "import json\n",
    "import csv"
   ]
  },
  {
   "cell_type": "code",
   "execution_count": 2,
   "id": "532e094e",
   "metadata": {
    "ExecuteTime": {
     "end_time": "2022-06-13T19:08:37.936401Z",
     "start_time": "2022-06-13T19:08:37.764800Z"
    }
   },
   "outputs": [],
   "source": [
    "# Take dump of Stream Updater data and convert to SPARQL INSERT/DELETE statements\n",
    "with open(\"wikidata_update_stream_6k_edits_20220531.ndjson\", \"r\") as update_data:\n",
    "    with open('sparql-update.ru', 'w') as sparql_update:\n",
    "        while True:\n",
    "            line = update_data.readline()  # Read an entry\n",
    "            if not line: \n",
    "                break\n",
    "            entry = json.loads(line)\n",
    "            operation = entry[\"operation\"]\n",
    "            if operation == \"reconcile\":   # Reconciles are not relevant at this time\n",
    "                continue\n",
    "            request = ''\n",
    "            if \"rdf_added_data\" in entry.keys():\n",
    "                request += \"INSERT DATA { \" + \\\n",
    "                    entry[\"rdf_added_data\"][\"data\"].replace(\"\\n\", \" \").replace(\"\\t\", \"\").strip() + \"}\\n\"\n",
    "            if \"rdf_deleted_data\" in entry.keys():\n",
    "                request += \"DELETE DATA { \" + \\\n",
    "                    entry[\"rdf_deleted_data\"][\"data\"].replace(\"\\n\", \" \").replace(\"\\t\", \"\").strip() + \"}\\n\"\n",
    "            if \"rdf_linked_data\" in entry.keys():\n",
    "                request += \"INSERT DATA { \" + \\\n",
    "                    entry[\"rdf_linked_data\"][\"data\"].replace(\"\\n\", \" \").replace(\"\\t\", \"\").strip() + \"}\\n\"\n",
    "            # Ignore rdf_unlinked_data\n",
    "            sparql_update.write(request)\n",
    "            # Note that operations with sequence_lengths different than 1 are not treated differently\n",
    "            # All information in the JSON output is written as complete triples"
   ]
  },
  {
   "cell_type": "code",
   "execution_count": 3,
   "id": "2aa84701",
   "metadata": {
    "ExecuteTime": {
     "end_time": "2022-06-13T19:10:22.182368Z",
     "start_time": "2022-06-13T19:10:22.120735Z"
    }
   },
   "outputs": [],
   "source": [
    "# Add \"deleted\" triples to the current input TTL\n",
    "triples = dict()\n",
    "with open('sparql-update.ru', 'r') as sparql_update:\n",
    "    while True:\n",
    "        line = sparql_update.readline()\n",
    "        if not line:\n",
    "            break\n",
    "        if line.startswith(\"INSERT \"):\n",
    "            continue\n",
    "        ttl = line.split(\"{\")[1][:-1]\n",
    "        statements = ttl.split(\" . \")\n",
    "        for statement in statements:\n",
    "            spo = statement.split(\"<\")\n",
    "            subj = spo[1].split(\">\")[0]\n",
    "            pred = spo[2].split(\">\")[0]\n",
    "            if subj+pred not in triples.keys():\n",
    "                if statement.endswith(\"}\"):\n",
    "                    triples[subj+pred] = statement.strip().replace(\"}\", \"\")\n",
    "                else:\n",
    "                    triples[subj+pred] = f\"{statement.strip()} .\"\n",
    "with open(\"deleted-triples.nt\", \"w\") as new:\n",
    "    for key, value in triples.items():\n",
    "        new.write(value + \"\\n\")"
   ]
  },
  {
   "cell_type": "code",
   "execution_count": 5,
   "id": "97456ed1",
   "metadata": {
    "ExecuteTime": {
     "end_time": "2022-06-13T19:15:35.460824Z",
     "start_time": "2022-06-13T19:15:35.433257Z"
    }
   },
   "outputs": [],
   "source": [
    "# Convert CSV from query analyses work into TTL\n",
    "with open('subgraphs_5.csv', newline='') as csvfile:\n",
    "    with open('query-triples.nt', 'w') as wikidata:\n",
    "        reader = csv.DictReader(csvfile)\n",
    "        for row in reader:\n",
    "            wikidata.write(f\"{row['subject']} {row['predicate']} {row['object']} .\\n\")"
   ]
  },
  {
   "cell_type": "code",
   "execution_count": null,
   "id": "f096ab6f",
   "metadata": {},
   "outputs": [],
   "source": []
  }
 ],
 "metadata": {
  "kernelspec": {
   "display_name": "Python 3 (ipykernel)",
   "language": "python",
   "name": "python3"
  },
  "language_info": {
   "codemirror_mode": {
    "name": "ipython",
    "version": 3
   },
   "file_extension": ".py",
   "mimetype": "text/x-python",
   "name": "python",
   "nbconvert_exporter": "python",
   "pygments_lexer": "ipython3",
   "version": "3.8.8"
  },
  "varInspector": {
   "cols": {
    "lenName": 16,
    "lenType": 16,
    "lenVar": 40
   },
   "kernels_config": {
    "python": {
     "delete_cmd_postfix": "",
     "delete_cmd_prefix": "del ",
     "library": "var_list.py",
     "varRefreshCmd": "print(var_dic_list())"
    },
    "r": {
     "delete_cmd_postfix": ") ",
     "delete_cmd_prefix": "rm(",
     "library": "var_list.r",
     "varRefreshCmd": "cat(var_dic_list()) "
    }
   },
   "types_to_exclude": [
    "module",
    "function",
    "builtin_function_or_method",
    "instance",
    "_Feature"
   ],
   "window_display": true
  }
 },
 "nbformat": 4,
 "nbformat_minor": 5
}
